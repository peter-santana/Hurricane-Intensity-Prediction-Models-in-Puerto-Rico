{
 "cells": [
  {
   "cell_type": "markdown",
   "id": "5511f6b4-a835-4a67-b30c-804c3e403f96",
   "metadata": {},
   "source": [
    "# Introduction"
   ]
  },
  {
   "cell_type": "markdown",
   "id": "95d48352-3a51-453c-98f9-e5e166f9091f",
   "metadata": {},
   "source": [
    "### This notebook has all the processes that were run for my final project for the course AI395T Case Studies in Machine Learning at The University of Texas at Austin. The title of the project, Hurricane Intensity Prediction for Puerto Rico using Machine Learning Techniques, talks a little bit about the background history of Puerto Rico, how hurricanes affect the Island and how Machine Learning is an important tool that can be used to determine hurricane intensity in the future in the caribbean so that more extreme measures can be taken to protect its residents. Through this Notebook I will showcase all the data that was used and all the models that were ran. "
   ]
  },
  {
   "cell_type": "markdown",
   "id": "5568c68d-383a-461a-b1ae-85db7b7351ae",
   "metadata": {},
   "source": [
    "### When we talk about hurricane intensity, we will be referring to Maximum Sustained Wind Speed in MpH and central pressure over hurricane season in Puerto Rio"
   ]
  },
  {
   "cell_type": "markdown",
   "id": "5517435f-fa1d-4988-9d2d-305e52696a37",
   "metadata": {},
   "source": [
    "# Data Collection"
   ]
  },
  {
   "cell_type": "markdown",
   "id": "a501e492-9684-4a55-a06d-3ebff19ee237",
   "metadata": {},
   "source": [
    "### For this paper, we will be using the HURDAT2 Database from the National Oceanic and Atmospheric Administration (NOAA). This one sadly is only updated until the year 2014, in a csv called Atlantic.csv as well as a hurricanelistuptodate.xlx fileset. We will be only recollecting and using data for hurricanes in the atalantic until 2023 starting from the 1899. 1899 was selected as a starting date because Hurricane San Ciriaco ravaged Puerto Rico, drowning over 3,000 habitants at the time. Only a few months had passed since the USA had taken control of the island in 1898. "
   ]
  },
  {
   "cell_type": "markdown",
   "id": "3f59f01e-f715-4544-b471-51e47663b8fe",
   "metadata": {},
   "source": [
    "### We will be focusing on Sea Surface Temperatures (SST), Wind Shear, Atmospheric Moisture. "
   ]
  },
  {
   "cell_type": "markdown",
   "id": "7ae97ada-b4a2-44b2-8a56-1aa9ce5c98d4",
   "metadata": {},
   "source": [
    "### Python Imports"
   ]
  },
  {
   "cell_type": "code",
   "execution_count": 49,
   "id": "995b7fc6-ccaf-4363-8319-0eb8ed703a83",
   "metadata": {},
   "outputs": [],
   "source": [
    "import pandas as pd\n",
    "import numpy as np\n",
    "import matplotlib.pyplot as plt\n",
    "import seaborn as sns"
   ]
  },
  {
   "cell_type": "markdown",
   "id": "c5db73ed-2c72-4f16-bd37-56443e88e151",
   "metadata": {},
   "source": [
    "### Loading the Datasets"
   ]
  },
  {
   "cell_type": "code",
   "execution_count": 52,
   "id": "583d1e6f-eb6f-47ff-9f97-a2360cebfac1",
   "metadata": {},
   "outputs": [
    {
     "name": "stdout",
     "output_type": "stream",
     "text": [
      "         ID                 Name      Date  Time Event Status Latitude  \\\n",
      "0  AL011851              UNNAMED  18510625     0           HU    28.0N   \n",
      "1  AL011851              UNNAMED  18510625   600           HU    28.0N   \n",
      "2  AL011851              UNNAMED  18510625  1200           HU    28.0N   \n",
      "3  AL011851              UNNAMED  18510625  1800           HU    28.1N   \n",
      "4  AL011851              UNNAMED  18510625  2100     L     HU    28.2N   \n",
      "\n",
      "  Longitude  Maximum Wind  Minimum Pressure  ...  Low Wind SW  Low Wind NW  \\\n",
      "0     94.8W            80              -999  ...         -999         -999   \n",
      "1     95.4W            80              -999  ...         -999         -999   \n",
      "2     96.0W            80              -999  ...         -999         -999   \n",
      "3     96.5W            80              -999  ...         -999         -999   \n",
      "4     96.8W            80              -999  ...         -999         -999   \n",
      "\n",
      "   Moderate Wind NE  Moderate Wind SE  Moderate Wind SW  Moderate Wind NW  \\\n",
      "0              -999              -999              -999              -999   \n",
      "1              -999              -999              -999              -999   \n",
      "2              -999              -999              -999              -999   \n",
      "3              -999              -999              -999              -999   \n",
      "4              -999              -999              -999              -999   \n",
      "\n",
      "   High Wind NE  High Wind SE  High Wind SW  High Wind NW  \n",
      "0          -999          -999          -999          -999  \n",
      "1          -999          -999          -999          -999  \n",
      "2          -999          -999          -999          -999  \n",
      "3          -999          -999          -999          -999  \n",
      "4          -999          -999          -999          -999  \n",
      "\n",
      "[5 rows x 22 columns]\n",
      "<class 'pandas.core.frame.DataFrame'>\n",
      "RangeIndex: 49105 entries, 0 to 49104\n",
      "Data columns (total 22 columns):\n",
      " #   Column            Non-Null Count  Dtype \n",
      "---  ------            --------------  ----- \n",
      " 0   ID                49105 non-null  object\n",
      " 1   Name              49105 non-null  object\n",
      " 2   Date              49105 non-null  int64 \n",
      " 3   Time              49105 non-null  int64 \n",
      " 4   Event             49105 non-null  object\n",
      " 5   Status            49105 non-null  object\n",
      " 6   Latitude          49105 non-null  object\n",
      " 7   Longitude         49105 non-null  object\n",
      " 8   Maximum Wind      49105 non-null  int64 \n",
      " 9   Minimum Pressure  49105 non-null  int64 \n",
      " 10  Low Wind NE       49105 non-null  int64 \n",
      " 11  Low Wind SE       49105 non-null  int64 \n",
      " 12  Low Wind SW       49105 non-null  int64 \n",
      " 13  Low Wind NW       49105 non-null  int64 \n",
      " 14  Moderate Wind NE  49105 non-null  int64 \n",
      " 15  Moderate Wind SE  49105 non-null  int64 \n",
      " 16  Moderate Wind SW  49105 non-null  int64 \n",
      " 17  Moderate Wind NW  49105 non-null  int64 \n",
      " 18  High Wind NE      49105 non-null  int64 \n",
      " 19  High Wind SE      49105 non-null  int64 \n",
      " 20  High Wind SW      49105 non-null  int64 \n",
      " 21  High Wind NW      49105 non-null  int64 \n",
      "dtypes: int64(16), object(6)\n",
      "memory usage: 8.2+ MB\n",
      "None\n"
     ]
    }
   ],
   "source": [
    "# Load the dataset\n",
    "# For now this is just the dataset from 1858 to 2014 of atlantic hurricanse\n",
    "file_path = 'atlantic.csv'\n",
    "data = pd.read_csv(file_path)\n",
    "\n",
    "# Display the first few rows\n",
    "print(data.head())\n",
    "\n",
    "# Display the column names and data types\n",
    "print(data.info())\n"
   ]
  },
  {
   "cell_type": "markdown",
   "id": "91cd7257-67f9-4245-be8d-26feca62424c",
   "metadata": {},
   "source": [
    "### Data Cleaning and handling"
   ]
  },
  {
   "cell_type": "code",
   "execution_count": 55,
   "id": "054ee371-3f0f-4b2b-af84-09f277212f21",
   "metadata": {},
   "outputs": [
    {
     "name": "stdout",
     "output_type": "stream",
     "text": [
      "ID                      0\n",
      "Name                    0\n",
      "Date                    0\n",
      "Time                    0\n",
      "Event                   0\n",
      "Status                  0\n",
      "Latitude                0\n",
      "Longitude               0\n",
      "Maximum Wind            0\n",
      "Minimum Pressure    30669\n",
      "Low Wind NE         43184\n",
      "Low Wind SE         43184\n",
      "Low Wind SW         43184\n",
      "Low Wind NW         43184\n",
      "Moderate Wind NE    43184\n",
      "Moderate Wind SE    43184\n",
      "Moderate Wind SW    43184\n",
      "Moderate Wind NW    43184\n",
      "High Wind NE        43184\n",
      "High Wind SE        43184\n",
      "High Wind SW        43184\n",
      "High Wind NW        43184\n",
      "dtype: int64\n"
     ]
    }
   ],
   "source": [
    "# Replace -999 with NaN\n",
    "data.replace(-999, np.nan, inplace=True)\n",
    "\n",
    "# Check the number of missing values per column\n",
    "print(data.isnull().sum())\n"
   ]
  },
  {
   "cell_type": "code",
   "execution_count": 57,
   "id": "33802871-0596-4c43-a5e8-c69eb6711689",
   "metadata": {},
   "outputs": [
    {
     "name": "stdout",
     "output_type": "stream",
     "text": [
      "       Date   Datetime  Year\n",
      "0  18510625 1851-06-25  1851\n",
      "1  18510625 1851-06-25  1851\n",
      "2  18510625 1851-06-25  1851\n",
      "3  18510625 1851-06-25  1851\n",
      "4  18510625 1851-06-25  1851\n"
     ]
    },
    {
     "name": "stderr",
     "output_type": "stream",
     "text": [
      "<>:2: SyntaxWarning: invalid escape sequence '\\d'\n",
      "<>:2: SyntaxWarning: invalid escape sequence '\\d'\n",
      "/var/folders/xr/rvm830ms6jq8c96254m46hkr0000gn/T/ipykernel_1469/2512704553.py:2: SyntaxWarning: invalid escape sequence '\\d'\n",
      "  data['Date'] = data['Date'].astype(str).str.extract('(\\d{8})', expand=False)\n"
     ]
    }
   ],
   "source": [
    "# Step 1: Clean the 'Date' column by removing any non-numeric characters\n",
    "data['Date'] = data['Date'].astype(str).str.extract('(\\d{8})', expand=False)\n",
    "\n",
    "# Step 2: Convert the 'Date' column to datetime format, considering only year, month, and day\n",
    "data['Datetime'] = pd.to_datetime(data['Date'], format='%Y%m%d', errors='coerce')\n",
    "\n",
    "# Step 3: Extract the year from the 'Datetime' column\n",
    "data['Year'] = data['Datetime'].dt.year\n",
    "\n",
    "# Verify the changes\n",
    "print(data[['Date', 'Datetime', 'Year']].head())\n"
   ]
  },
  {
   "cell_type": "code",
   "execution_count": 59,
   "id": "7487432e-59e3-47b5-9f39-db1a78908521",
   "metadata": {},
   "outputs": [
    {
     "name": "stdout",
     "output_type": "stream",
     "text": [
      "Number of records from 1899 and beyond: 40250\n"
     ]
    },
    {
     "data": {
      "text/html": [
       "<div>\n",
       "<style scoped>\n",
       "    .dataframe tbody tr th:only-of-type {\n",
       "        vertical-align: middle;\n",
       "    }\n",
       "\n",
       "    .dataframe tbody tr th {\n",
       "        vertical-align: top;\n",
       "    }\n",
       "\n",
       "    .dataframe thead th {\n",
       "        text-align: right;\n",
       "    }\n",
       "</style>\n",
       "<table border=\"1\" class=\"dataframe\">\n",
       "  <thead>\n",
       "    <tr style=\"text-align: right;\">\n",
       "      <th></th>\n",
       "      <th>ID</th>\n",
       "      <th>Name</th>\n",
       "      <th>Date</th>\n",
       "      <th>Time</th>\n",
       "      <th>Event</th>\n",
       "      <th>Status</th>\n",
       "      <th>Latitude</th>\n",
       "      <th>Longitude</th>\n",
       "      <th>Maximum Wind</th>\n",
       "      <th>Minimum Pressure</th>\n",
       "      <th>...</th>\n",
       "      <th>Moderate Wind NE</th>\n",
       "      <th>Moderate Wind SE</th>\n",
       "      <th>Moderate Wind SW</th>\n",
       "      <th>Moderate Wind NW</th>\n",
       "      <th>High Wind NE</th>\n",
       "      <th>High Wind SE</th>\n",
       "      <th>High Wind SW</th>\n",
       "      <th>High Wind NW</th>\n",
       "      <th>Datetime</th>\n",
       "      <th>Year</th>\n",
       "    </tr>\n",
       "  </thead>\n",
       "  <tbody>\n",
       "    <tr>\n",
       "      <th>8855</th>\n",
       "      <td>AL011899</td>\n",
       "      <td>UNNAMED</td>\n",
       "      <td>18990626</td>\n",
       "      <td>1200</td>\n",
       "      <td></td>\n",
       "      <td>TS</td>\n",
       "      <td>27.5N</td>\n",
       "      <td>93.0W</td>\n",
       "      <td>35</td>\n",
       "      <td>NaN</td>\n",
       "      <td>...</td>\n",
       "      <td>NaN</td>\n",
       "      <td>NaN</td>\n",
       "      <td>NaN</td>\n",
       "      <td>NaN</td>\n",
       "      <td>NaN</td>\n",
       "      <td>NaN</td>\n",
       "      <td>NaN</td>\n",
       "      <td>NaN</td>\n",
       "      <td>1899-06-26</td>\n",
       "      <td>1899</td>\n",
       "    </tr>\n",
       "    <tr>\n",
       "      <th>8856</th>\n",
       "      <td>AL011899</td>\n",
       "      <td>UNNAMED</td>\n",
       "      <td>18990626</td>\n",
       "      <td>1800</td>\n",
       "      <td></td>\n",
       "      <td>TS</td>\n",
       "      <td>27.8N</td>\n",
       "      <td>93.6W</td>\n",
       "      <td>35</td>\n",
       "      <td>NaN</td>\n",
       "      <td>...</td>\n",
       "      <td>NaN</td>\n",
       "      <td>NaN</td>\n",
       "      <td>NaN</td>\n",
       "      <td>NaN</td>\n",
       "      <td>NaN</td>\n",
       "      <td>NaN</td>\n",
       "      <td>NaN</td>\n",
       "      <td>NaN</td>\n",
       "      <td>1899-06-26</td>\n",
       "      <td>1899</td>\n",
       "    </tr>\n",
       "    <tr>\n",
       "      <th>8857</th>\n",
       "      <td>AL011899</td>\n",
       "      <td>UNNAMED</td>\n",
       "      <td>18990627</td>\n",
       "      <td>0</td>\n",
       "      <td></td>\n",
       "      <td>TS</td>\n",
       "      <td>28.2N</td>\n",
       "      <td>94.2W</td>\n",
       "      <td>35</td>\n",
       "      <td>NaN</td>\n",
       "      <td>...</td>\n",
       "      <td>NaN</td>\n",
       "      <td>NaN</td>\n",
       "      <td>NaN</td>\n",
       "      <td>NaN</td>\n",
       "      <td>NaN</td>\n",
       "      <td>NaN</td>\n",
       "      <td>NaN</td>\n",
       "      <td>NaN</td>\n",
       "      <td>1899-06-27</td>\n",
       "      <td>1899</td>\n",
       "    </tr>\n",
       "    <tr>\n",
       "      <th>8858</th>\n",
       "      <td>AL011899</td>\n",
       "      <td>UNNAMED</td>\n",
       "      <td>18990627</td>\n",
       "      <td>600</td>\n",
       "      <td></td>\n",
       "      <td>TS</td>\n",
       "      <td>28.8N</td>\n",
       "      <td>94.8W</td>\n",
       "      <td>35</td>\n",
       "      <td>NaN</td>\n",
       "      <td>...</td>\n",
       "      <td>NaN</td>\n",
       "      <td>NaN</td>\n",
       "      <td>NaN</td>\n",
       "      <td>NaN</td>\n",
       "      <td>NaN</td>\n",
       "      <td>NaN</td>\n",
       "      <td>NaN</td>\n",
       "      <td>NaN</td>\n",
       "      <td>1899-06-27</td>\n",
       "      <td>1899</td>\n",
       "    </tr>\n",
       "    <tr>\n",
       "      <th>8859</th>\n",
       "      <td>AL011899</td>\n",
       "      <td>UNNAMED</td>\n",
       "      <td>18990627</td>\n",
       "      <td>900</td>\n",
       "      <td>L</td>\n",
       "      <td>TS</td>\n",
       "      <td>29.1N</td>\n",
       "      <td>95.1W</td>\n",
       "      <td>35</td>\n",
       "      <td>NaN</td>\n",
       "      <td>...</td>\n",
       "      <td>NaN</td>\n",
       "      <td>NaN</td>\n",
       "      <td>NaN</td>\n",
       "      <td>NaN</td>\n",
       "      <td>NaN</td>\n",
       "      <td>NaN</td>\n",
       "      <td>NaN</td>\n",
       "      <td>NaN</td>\n",
       "      <td>1899-06-27</td>\n",
       "      <td>1899</td>\n",
       "    </tr>\n",
       "  </tbody>\n",
       "</table>\n",
       "<p>5 rows × 24 columns</p>\n",
       "</div>"
      ],
      "text/plain": [
       "            ID                 Name      Date  Time Event Status Latitude  \\\n",
       "8855  AL011899              UNNAMED  18990626  1200           TS    27.5N   \n",
       "8856  AL011899              UNNAMED  18990626  1800           TS    27.8N   \n",
       "8857  AL011899              UNNAMED  18990627     0           TS    28.2N   \n",
       "8858  AL011899              UNNAMED  18990627   600           TS    28.8N   \n",
       "8859  AL011899              UNNAMED  18990627   900     L     TS    29.1N   \n",
       "\n",
       "     Longitude  Maximum Wind  Minimum Pressure  ...  Moderate Wind NE  \\\n",
       "8855     93.0W            35               NaN  ...               NaN   \n",
       "8856     93.6W            35               NaN  ...               NaN   \n",
       "8857     94.2W            35               NaN  ...               NaN   \n",
       "8858     94.8W            35               NaN  ...               NaN   \n",
       "8859     95.1W            35               NaN  ...               NaN   \n",
       "\n",
       "      Moderate Wind SE  Moderate Wind SW  Moderate Wind NW  High Wind NE  \\\n",
       "8855               NaN               NaN               NaN           NaN   \n",
       "8856               NaN               NaN               NaN           NaN   \n",
       "8857               NaN               NaN               NaN           NaN   \n",
       "8858               NaN               NaN               NaN           NaN   \n",
       "8859               NaN               NaN               NaN           NaN   \n",
       "\n",
       "      High Wind SE  High Wind SW  High Wind NW   Datetime  Year  \n",
       "8855           NaN           NaN           NaN 1899-06-26  1899  \n",
       "8856           NaN           NaN           NaN 1899-06-26  1899  \n",
       "8857           NaN           NaN           NaN 1899-06-27  1899  \n",
       "8858           NaN           NaN           NaN 1899-06-27  1899  \n",
       "8859           NaN           NaN           NaN 1899-06-27  1899  \n",
       "\n",
       "[5 rows x 24 columns]"
      ]
     },
     "execution_count": 59,
     "metadata": {},
     "output_type": "execute_result"
    }
   ],
   "source": [
    "# Filter the dataset to include only entries from the year 1899 and beyond\n",
    "data_filtered = data[data['Year'] >= 1899]\n",
    "\n",
    "# Display the number of records in the filtered dataset and a sample\n",
    "print(f\"Number of records from 1899 and beyond: {data_filtered.shape[0]}\")\n",
    "data_filtered.head()\n"
   ]
  },
  {
   "cell_type": "code",
   "execution_count": 61,
   "id": "d84ff89f-b56b-4570-a36e-cc2e81f1b9fe",
   "metadata": {},
   "outputs": [
    {
     "name": "stdout",
     "output_type": "stream",
     "text": [
      "ID                      0\n",
      "Name                    0\n",
      "Date                    0\n",
      "Time                    0\n",
      "Event                   0\n",
      "Status                  0\n",
      "Latitude                0\n",
      "Longitude               0\n",
      "Maximum Wind            0\n",
      "Minimum Pressure    30669\n",
      "Low Wind NE         43184\n",
      "Low Wind SE         43184\n",
      "Low Wind SW         43184\n",
      "Low Wind NW         43184\n",
      "Moderate Wind NE    43184\n",
      "Moderate Wind SE    43184\n",
      "Moderate Wind SW    43184\n",
      "Moderate Wind NW    43184\n",
      "High Wind NE        43184\n",
      "High Wind SE        43184\n",
      "High Wind SW        43184\n",
      "High Wind NW        43184\n",
      "Datetime                0\n",
      "Year                    0\n",
      "dtype: int64\n",
      "ID                  0\n",
      "Name                0\n",
      "Date                0\n",
      "Time                0\n",
      "Event               0\n",
      "Status              0\n",
      "Latitude            0\n",
      "Longitude           0\n",
      "Maximum Wind        0\n",
      "Minimum Pressure    0\n",
      "Low Wind NE         0\n",
      "Low Wind SE         0\n",
      "Low Wind SW         0\n",
      "Low Wind NW         0\n",
      "Moderate Wind NE    0\n",
      "Moderate Wind SE    0\n",
      "Moderate Wind SW    0\n",
      "Moderate Wind NW    0\n",
      "High Wind NE        0\n",
      "High Wind SE        0\n",
      "High Wind SW        0\n",
      "High Wind NW        0\n",
      "Datetime            0\n",
      "Year                0\n",
      "dtype: int64\n"
     ]
    },
    {
     "name": "stderr",
     "output_type": "stream",
     "text": [
      "/var/folders/xr/rvm830ms6jq8c96254m46hkr0000gn/T/ipykernel_1469/374468343.py:17: FutureWarning: A value is trying to be set on a copy of a DataFrame or Series through chained assignment using an inplace method.\n",
      "The behavior will change in pandas 3.0. This inplace method will never work because the intermediate object on which we are setting values always behaves as a copy.\n",
      "\n",
      "For example, when doing 'df[col].method(value, inplace=True)', try using 'df.method({col: value}, inplace=True)' or df[col] = df[col].method(value) instead, to perform the operation inplace on the original object.\n",
      "\n",
      "\n",
      "  data[col].fillna(median, inplace=True)\n"
     ]
    }
   ],
   "source": [
    "# Check missing values after replacements\n",
    "print(data.isnull().sum())\n",
    "\n",
    "# Strategy:\n",
    "# - For numerical features, consider imputing with mean or median\n",
    "# - For categorical features, consider imputing with the mode or creating a separate category\n",
    "\n",
    "# Example: Impute numerical columns with median\n",
    "numerical_cols = ['Maximum Wind', 'Minimum Pressure', \n",
    "                  'Low Wind NE', 'Low Wind SE', 'Low Wind SW', 'Low Wind NW',\n",
    "                  'Moderate Wind NE', 'Moderate Wind SE', 'Moderate Wind SW', 'Moderate Wind NW',\n",
    "                  'High Wind NE', 'High Wind SE', 'High Wind SW', 'High Wind NW']\n",
    "\n",
    "for col in numerical_cols:\n",
    "    if data[col].isnull().sum() > 0:\n",
    "        median = data[col].median()\n",
    "        data[col].fillna(median, inplace=True)\n",
    "\n",
    "# For categorical columns like 'Status' and 'Event', fill NaN with mode\n",
    "categorical_cols = ['Event', 'Status']\n",
    "for col in categorical_cols:\n",
    "    if data[col].isnull().sum() > 0:\n",
    "        mode = data[col].mode()[0]\n",
    "        data[col].fillna(mode, inplace=True)\n",
    "\n",
    "# Verify no missing values remain\n",
    "print(data.isnull().sum())\n",
    "\n"
   ]
  },
  {
   "cell_type": "markdown",
   "id": "086132f2-a70b-430f-97d5-ad3fe0717784",
   "metadata": {},
   "source": [
    "### Feature Engineering"
   ]
  },
  {
   "cell_type": "code",
   "execution_count": 67,
   "id": "19ceee60-eb9c-4993-adc5-a8aaf5a317b8",
   "metadata": {},
   "outputs": [],
   "source": [
    "# Extract datetime features\n",
    "data['Year'] = data['Datetime'].dt.year\n",
    "data['Month'] = data['Datetime'].dt.month\n",
    "data['Day'] = data['Datetime'].dt.day\n",
    "data['Hour'] = data['Datetime'].dt.hour\n",
    "\n",
    "# Drop the original Datetime column if not needed\n",
    "# data.drop('Datetime', axis=1, inplace=True)\n"
   ]
  },
  {
   "cell_type": "code",
   "execution_count": 69,
   "id": "46b17f57-f531-49c1-be19-2db26410d188",
   "metadata": {},
   "outputs": [],
   "source": [
    "# Calculate average Low Wind speed\n",
    "data['Avg_Low_Wind'] = data[['Low Wind NE', 'Low Wind SE', 'Low Wind SW', 'Low Wind NW']].mean(axis=1)\n",
    "\n",
    "# Calculate average Moderate Wind speed\n",
    "data['Avg_Moderate_Wind'] = data[['Moderate Wind NE', 'Moderate Wind SE', 'Moderate Wind SW', 'Moderate Wind NW']].mean(axis=1)\n",
    "\n",
    "# Calculate average High Wind speed\n",
    "data['Avg_High_Wind'] = data[['High Wind NE', 'High Wind SE', 'High Wind SW', 'High Wind NW']].mean(axis=1)\n",
    "\n",
    "# Optionally, drop the original quadrant wind columns\n",
    "wind_columns = ['Low Wind NE', 'Low Wind SE', 'Low Wind SW', 'Low Wind NW',\n",
    "               'Moderate Wind NE', 'Moderate Wind SE', 'Moderate Wind SW', 'Moderate Wind NW',\n",
    "               'High Wind NE', 'High Wind SE', 'High Wind SW', 'High Wind NW']\n",
    "\n",
    "data.drop(wind_columns, axis=1, inplace=True)\n"
   ]
  },
  {
   "cell_type": "code",
   "execution_count": 79,
   "id": "3cb2bbda-0522-48f0-a69c-b49415136e23",
   "metadata": {},
   "outputs": [
    {
     "ename": "TypeError",
     "evalue": "'float' object is not subscriptable",
     "output_type": "error",
     "traceback": [
      "\u001b[0;31m---------------------------------------------------------------------------\u001b[0m",
      "\u001b[0;31mTypeError\u001b[0m                                 Traceback (most recent call last)",
      "Cell \u001b[0;32mIn[79], line 14\u001b[0m\n\u001b[1;32m     11\u001b[0m     \u001b[38;5;28;01mreturn\u001b[39;00m numeric_part\n\u001b[1;32m     13\u001b[0m \u001b[38;5;66;03m# Apply the conversion to both Latitude and Longitude columns\u001b[39;00m\n\u001b[0;32m---> 14\u001b[0m data[\u001b[38;5;124m'\u001b[39m\u001b[38;5;124mLatitude\u001b[39m\u001b[38;5;124m'\u001b[39m] \u001b[38;5;241m=\u001b[39m data[\u001b[38;5;124m'\u001b[39m\u001b[38;5;124mLatitude\u001b[39m\u001b[38;5;124m'\u001b[39m]\u001b[38;5;241m.\u001b[39mapply(convert_lat_long)\n\u001b[1;32m     15\u001b[0m data[\u001b[38;5;124m'\u001b[39m\u001b[38;5;124mLongitude\u001b[39m\u001b[38;5;124m'\u001b[39m] \u001b[38;5;241m=\u001b[39m data[\u001b[38;5;124m'\u001b[39m\u001b[38;5;124mLongitude\u001b[39m\u001b[38;5;124m'\u001b[39m]\u001b[38;5;241m.\u001b[39mapply(convert_lat_long)\n\u001b[1;32m     17\u001b[0m \u001b[38;5;66;03m# Verify the changes\u001b[39;00m\n",
      "File \u001b[0;32m/opt/anaconda3/lib/python3.12/site-packages/pandas/core/series.py:4924\u001b[0m, in \u001b[0;36mSeries.apply\u001b[0;34m(self, func, convert_dtype, args, by_row, **kwargs)\u001b[0m\n\u001b[1;32m   4789\u001b[0m \u001b[38;5;28;01mdef\u001b[39;00m \u001b[38;5;21mapply\u001b[39m(\n\u001b[1;32m   4790\u001b[0m     \u001b[38;5;28mself\u001b[39m,\n\u001b[1;32m   4791\u001b[0m     func: AggFuncType,\n\u001b[0;32m   (...)\u001b[0m\n\u001b[1;32m   4796\u001b[0m     \u001b[38;5;241m*\u001b[39m\u001b[38;5;241m*\u001b[39mkwargs,\n\u001b[1;32m   4797\u001b[0m ) \u001b[38;5;241m-\u001b[39m\u001b[38;5;241m>\u001b[39m DataFrame \u001b[38;5;241m|\u001b[39m Series:\n\u001b[1;32m   4798\u001b[0m \u001b[38;5;250m    \u001b[39m\u001b[38;5;124;03m\"\"\"\u001b[39;00m\n\u001b[1;32m   4799\u001b[0m \u001b[38;5;124;03m    Invoke function on values of Series.\u001b[39;00m\n\u001b[1;32m   4800\u001b[0m \n\u001b[0;32m   (...)\u001b[0m\n\u001b[1;32m   4915\u001b[0m \u001b[38;5;124;03m    dtype: float64\u001b[39;00m\n\u001b[1;32m   4916\u001b[0m \u001b[38;5;124;03m    \"\"\"\u001b[39;00m\n\u001b[1;32m   4917\u001b[0m     \u001b[38;5;28;01mreturn\u001b[39;00m SeriesApply(\n\u001b[1;32m   4918\u001b[0m         \u001b[38;5;28mself\u001b[39m,\n\u001b[1;32m   4919\u001b[0m         func,\n\u001b[1;32m   4920\u001b[0m         convert_dtype\u001b[38;5;241m=\u001b[39mconvert_dtype,\n\u001b[1;32m   4921\u001b[0m         by_row\u001b[38;5;241m=\u001b[39mby_row,\n\u001b[1;32m   4922\u001b[0m         args\u001b[38;5;241m=\u001b[39margs,\n\u001b[1;32m   4923\u001b[0m         kwargs\u001b[38;5;241m=\u001b[39mkwargs,\n\u001b[0;32m-> 4924\u001b[0m     )\u001b[38;5;241m.\u001b[39mapply()\n",
      "File \u001b[0;32m/opt/anaconda3/lib/python3.12/site-packages/pandas/core/apply.py:1427\u001b[0m, in \u001b[0;36mSeriesApply.apply\u001b[0;34m(self)\u001b[0m\n\u001b[1;32m   1424\u001b[0m     \u001b[38;5;28;01mreturn\u001b[39;00m \u001b[38;5;28mself\u001b[39m\u001b[38;5;241m.\u001b[39mapply_compat()\n\u001b[1;32m   1426\u001b[0m \u001b[38;5;66;03m# self.func is Callable\u001b[39;00m\n\u001b[0;32m-> 1427\u001b[0m \u001b[38;5;28;01mreturn\u001b[39;00m \u001b[38;5;28mself\u001b[39m\u001b[38;5;241m.\u001b[39mapply_standard()\n",
      "File \u001b[0;32m/opt/anaconda3/lib/python3.12/site-packages/pandas/core/apply.py:1507\u001b[0m, in \u001b[0;36mSeriesApply.apply_standard\u001b[0;34m(self)\u001b[0m\n\u001b[1;32m   1501\u001b[0m \u001b[38;5;66;03m# row-wise access\u001b[39;00m\n\u001b[1;32m   1502\u001b[0m \u001b[38;5;66;03m# apply doesn't have a `na_action` keyword and for backward compat reasons\u001b[39;00m\n\u001b[1;32m   1503\u001b[0m \u001b[38;5;66;03m# we need to give `na_action=\"ignore\"` for categorical data.\u001b[39;00m\n\u001b[1;32m   1504\u001b[0m \u001b[38;5;66;03m# TODO: remove the `na_action=\"ignore\"` when that default has been changed in\u001b[39;00m\n\u001b[1;32m   1505\u001b[0m \u001b[38;5;66;03m#  Categorical (GH51645).\u001b[39;00m\n\u001b[1;32m   1506\u001b[0m action \u001b[38;5;241m=\u001b[39m \u001b[38;5;124m\"\u001b[39m\u001b[38;5;124mignore\u001b[39m\u001b[38;5;124m\"\u001b[39m \u001b[38;5;28;01mif\u001b[39;00m \u001b[38;5;28misinstance\u001b[39m(obj\u001b[38;5;241m.\u001b[39mdtype, CategoricalDtype) \u001b[38;5;28;01melse\u001b[39;00m \u001b[38;5;28;01mNone\u001b[39;00m\n\u001b[0;32m-> 1507\u001b[0m mapped \u001b[38;5;241m=\u001b[39m obj\u001b[38;5;241m.\u001b[39m_map_values(\n\u001b[1;32m   1508\u001b[0m     mapper\u001b[38;5;241m=\u001b[39mcurried, na_action\u001b[38;5;241m=\u001b[39maction, convert\u001b[38;5;241m=\u001b[39m\u001b[38;5;28mself\u001b[39m\u001b[38;5;241m.\u001b[39mconvert_dtype\n\u001b[1;32m   1509\u001b[0m )\n\u001b[1;32m   1511\u001b[0m \u001b[38;5;28;01mif\u001b[39;00m \u001b[38;5;28mlen\u001b[39m(mapped) \u001b[38;5;129;01mand\u001b[39;00m \u001b[38;5;28misinstance\u001b[39m(mapped[\u001b[38;5;241m0\u001b[39m], ABCSeries):\n\u001b[1;32m   1512\u001b[0m     \u001b[38;5;66;03m# GH#43986 Need to do list(mapped) in order to get treated as nested\u001b[39;00m\n\u001b[1;32m   1513\u001b[0m     \u001b[38;5;66;03m#  See also GH#25959 regarding EA support\u001b[39;00m\n\u001b[1;32m   1514\u001b[0m     \u001b[38;5;28;01mreturn\u001b[39;00m obj\u001b[38;5;241m.\u001b[39m_constructor_expanddim(\u001b[38;5;28mlist\u001b[39m(mapped), index\u001b[38;5;241m=\u001b[39mobj\u001b[38;5;241m.\u001b[39mindex)\n",
      "File \u001b[0;32m/opt/anaconda3/lib/python3.12/site-packages/pandas/core/base.py:921\u001b[0m, in \u001b[0;36mIndexOpsMixin._map_values\u001b[0;34m(self, mapper, na_action, convert)\u001b[0m\n\u001b[1;32m    918\u001b[0m \u001b[38;5;28;01mif\u001b[39;00m \u001b[38;5;28misinstance\u001b[39m(arr, ExtensionArray):\n\u001b[1;32m    919\u001b[0m     \u001b[38;5;28;01mreturn\u001b[39;00m arr\u001b[38;5;241m.\u001b[39mmap(mapper, na_action\u001b[38;5;241m=\u001b[39mna_action)\n\u001b[0;32m--> 921\u001b[0m \u001b[38;5;28;01mreturn\u001b[39;00m algorithms\u001b[38;5;241m.\u001b[39mmap_array(arr, mapper, na_action\u001b[38;5;241m=\u001b[39mna_action, convert\u001b[38;5;241m=\u001b[39mconvert)\n",
      "File \u001b[0;32m/opt/anaconda3/lib/python3.12/site-packages/pandas/core/algorithms.py:1743\u001b[0m, in \u001b[0;36mmap_array\u001b[0;34m(arr, mapper, na_action, convert)\u001b[0m\n\u001b[1;32m   1741\u001b[0m values \u001b[38;5;241m=\u001b[39m arr\u001b[38;5;241m.\u001b[39mastype(\u001b[38;5;28mobject\u001b[39m, copy\u001b[38;5;241m=\u001b[39m\u001b[38;5;28;01mFalse\u001b[39;00m)\n\u001b[1;32m   1742\u001b[0m \u001b[38;5;28;01mif\u001b[39;00m na_action \u001b[38;5;129;01mis\u001b[39;00m \u001b[38;5;28;01mNone\u001b[39;00m:\n\u001b[0;32m-> 1743\u001b[0m     \u001b[38;5;28;01mreturn\u001b[39;00m lib\u001b[38;5;241m.\u001b[39mmap_infer(values, mapper, convert\u001b[38;5;241m=\u001b[39mconvert)\n\u001b[1;32m   1744\u001b[0m \u001b[38;5;28;01melse\u001b[39;00m:\n\u001b[1;32m   1745\u001b[0m     \u001b[38;5;28;01mreturn\u001b[39;00m lib\u001b[38;5;241m.\u001b[39mmap_infer_mask(\n\u001b[1;32m   1746\u001b[0m         values, mapper, mask\u001b[38;5;241m=\u001b[39misna(values)\u001b[38;5;241m.\u001b[39mview(np\u001b[38;5;241m.\u001b[39muint8), convert\u001b[38;5;241m=\u001b[39mconvert\n\u001b[1;32m   1747\u001b[0m     )\n",
      "File \u001b[0;32mlib.pyx:2972\u001b[0m, in \u001b[0;36mpandas._libs.lib.map_infer\u001b[0;34m()\u001b[0m\n",
      "Cell \u001b[0;32mIn[79], line 6\u001b[0m, in \u001b[0;36mconvert_lat_long\u001b[0;34m(value)\u001b[0m\n\u001b[1;32m      4\u001b[0m     \u001b[38;5;28;01mreturn\u001b[39;00m np\u001b[38;5;241m.\u001b[39mnan\n\u001b[1;32m      5\u001b[0m \u001b[38;5;66;03m# Extract numeric part and directional indicator\u001b[39;00m\n\u001b[0;32m----> 6\u001b[0m numeric_part \u001b[38;5;241m=\u001b[39m \u001b[38;5;28mfloat\u001b[39m(value[:\u001b[38;5;241m-\u001b[39m\u001b[38;5;241m1\u001b[39m])\n\u001b[1;32m      7\u001b[0m direction \u001b[38;5;241m=\u001b[39m value[\u001b[38;5;241m-\u001b[39m\u001b[38;5;241m1\u001b[39m]\n\u001b[1;32m      8\u001b[0m \u001b[38;5;66;03m# Make the numeric part negative for 'S' and 'W'\u001b[39;00m\n",
      "\u001b[0;31mTypeError\u001b[0m: 'float' object is not subscriptable"
     ]
    }
   ],
   "source": [
    "# Function to convert latitude and longitude to numeric\n",
    "def convert_lat_long(value):\n",
    "    if pd.isnull(value):\n",
    "        return np.nan\n",
    "    # Extract numeric part and directional indicator\n",
    "    numeric_part = float(value[:-1])\n",
    "    direction = value[-1]\n",
    "    # Make the numeric part negative for 'S' and 'W'\n",
    "    if direction in ['S', 'W']:\n",
    "        numeric_part *= -1\n",
    "    return numeric_part\n",
    "\n",
    "# Apply the conversion to both Latitude and Longitude columns\n",
    "data['Latitude'] = data['Latitude'].apply(convert_lat_long)\n",
    "data['Longitude'] = data['Longitude'].apply(convert_lat_long)\n",
    "\n",
    "# Verify the changes\n",
    "print(data[['Latitude', 'Longitude']].head())\n",
    "\n"
   ]
  },
  {
   "cell_type": "code",
   "execution_count": 77,
   "id": "ed49d962-b359-4d73-8746-f5957b0929d1",
   "metadata": {},
   "outputs": [
    {
     "data": {
      "image/png": "[encoded data removed]",
      "text/plain": [
       "<Figure size 1000x500 with 1 Axes>"
      ]
     },
     "metadata": {},
     "output_type": "display_data"
    },
    {
     "data": {
      "image/png": "[encoded data removed]",
      "text/plain": [
       "<Figure size 1000x500 with 1 Axes>"
      ]
     },
     "metadata": {},
     "output_type": "display_data"
    }
   ],
   "source": [
    "# Distribution of Maximum Wind\n",
    "plt.figure(figsize=(10, 5))\n",
    "sns.histplot(data['Maximum Wind'], bins=30, kde=True)\n",
    "plt.title('Distribution of Maximum Wind Speed')\n",
    "plt.xlabel('Wind Speed (mph)')\n",
    "plt.ylabel('Frequency')\n",
    "plt.show()\n",
    "\n",
    "# Distribution of Minimum Pressure\n",
    "plt.figure(figsize=(10, 5))\n",
    "sns.histplot(data['Minimum Pressure'], bins=30, kde=True, color='orange')\n",
    "plt.title('Distribution of Minimum Pressure')\n",
    "plt.xlabel('Pressure (millibars)')\n",
    "plt.ylabel('Frequency')\n",
    "plt.show()\n"
   ]
  },
  {
   "cell_type": "code",
   "execution_count": 81,
   "id": "731efacf-cfed-4b4a-86c2-3e0ee095b615",
   "metadata": {},
   "outputs": [
    {
     "ename": "ValueError",
     "evalue": "could not convert string to float: 'AL011851'",
     "output_type": "error",
     "traceback": [
      "\u001b[0;31m---------------------------------------------------------------------------\u001b[0m",
      "\u001b[0;31mValueError\u001b[0m                                Traceback (most recent call last)",
      "Cell \u001b[0;32mIn[81], line 2\u001b[0m\n\u001b[1;32m      1\u001b[0m \u001b[38;5;66;03m# Compute correlation matrix\u001b[39;00m\n\u001b[0;32m----> 2\u001b[0m corr_matrix \u001b[38;5;241m=\u001b[39m data\u001b[38;5;241m.\u001b[39mcorr()\n\u001b[1;32m      4\u001b[0m \u001b[38;5;66;03m# Plot heatmap\u001b[39;00m\n\u001b[1;32m      5\u001b[0m plt\u001b[38;5;241m.\u001b[39mfigure(figsize\u001b[38;5;241m=\u001b[39m(\u001b[38;5;241m15\u001b[39m, \u001b[38;5;241m12\u001b[39m))\n",
      "File \u001b[0;32m/opt/anaconda3/lib/python3.12/site-packages/pandas/core/frame.py:11049\u001b[0m, in \u001b[0;36mDataFrame.corr\u001b[0;34m(self, method, min_periods, numeric_only)\u001b[0m\n\u001b[1;32m  11047\u001b[0m cols \u001b[38;5;241m=\u001b[39m data\u001b[38;5;241m.\u001b[39mcolumns\n\u001b[1;32m  11048\u001b[0m idx \u001b[38;5;241m=\u001b[39m cols\u001b[38;5;241m.\u001b[39mcopy()\n\u001b[0;32m> 11049\u001b[0m mat \u001b[38;5;241m=\u001b[39m data\u001b[38;5;241m.\u001b[39mto_numpy(dtype\u001b[38;5;241m=\u001b[39m\u001b[38;5;28mfloat\u001b[39m, na_value\u001b[38;5;241m=\u001b[39mnp\u001b[38;5;241m.\u001b[39mnan, copy\u001b[38;5;241m=\u001b[39m\u001b[38;5;28;01mFalse\u001b[39;00m)\n\u001b[1;32m  11051\u001b[0m \u001b[38;5;28;01mif\u001b[39;00m method \u001b[38;5;241m==\u001b[39m \u001b[38;5;124m\"\u001b[39m\u001b[38;5;124mpearson\u001b[39m\u001b[38;5;124m\"\u001b[39m:\n\u001b[1;32m  11052\u001b[0m     correl \u001b[38;5;241m=\u001b[39m libalgos\u001b[38;5;241m.\u001b[39mnancorr(mat, minp\u001b[38;5;241m=\u001b[39mmin_periods)\n",
      "File \u001b[0;32m/opt/anaconda3/lib/python3.12/site-packages/pandas/core/frame.py:1993\u001b[0m, in \u001b[0;36mDataFrame.to_numpy\u001b[0;34m(self, dtype, copy, na_value)\u001b[0m\n\u001b[1;32m   1991\u001b[0m \u001b[38;5;28;01mif\u001b[39;00m dtype \u001b[38;5;129;01mis\u001b[39;00m \u001b[38;5;129;01mnot\u001b[39;00m \u001b[38;5;28;01mNone\u001b[39;00m:\n\u001b[1;32m   1992\u001b[0m     dtype \u001b[38;5;241m=\u001b[39m np\u001b[38;5;241m.\u001b[39mdtype(dtype)\n\u001b[0;32m-> 1993\u001b[0m result \u001b[38;5;241m=\u001b[39m \u001b[38;5;28mself\u001b[39m\u001b[38;5;241m.\u001b[39m_mgr\u001b[38;5;241m.\u001b[39mas_array(dtype\u001b[38;5;241m=\u001b[39mdtype, copy\u001b[38;5;241m=\u001b[39mcopy, na_value\u001b[38;5;241m=\u001b[39mna_value)\n\u001b[1;32m   1994\u001b[0m \u001b[38;5;28;01mif\u001b[39;00m result\u001b[38;5;241m.\u001b[39mdtype \u001b[38;5;129;01mis\u001b[39;00m \u001b[38;5;129;01mnot\u001b[39;00m dtype:\n\u001b[1;32m   1995\u001b[0m     result \u001b[38;5;241m=\u001b[39m np\u001b[38;5;241m.\u001b[39masarray(result, dtype\u001b[38;5;241m=\u001b[39mdtype)\n",
      "File \u001b[0;32m/opt/anaconda3/lib/python3.12/site-packages/pandas/core/internals/managers.py:1694\u001b[0m, in \u001b[0;36mBlockManager.as_array\u001b[0;34m(self, dtype, copy, na_value)\u001b[0m\n\u001b[1;32m   1692\u001b[0m         arr\u001b[38;5;241m.\u001b[39mflags\u001b[38;5;241m.\u001b[39mwriteable \u001b[38;5;241m=\u001b[39m \u001b[38;5;28;01mFalse\u001b[39;00m\n\u001b[1;32m   1693\u001b[0m \u001b[38;5;28;01melse\u001b[39;00m:\n\u001b[0;32m-> 1694\u001b[0m     arr \u001b[38;5;241m=\u001b[39m \u001b[38;5;28mself\u001b[39m\u001b[38;5;241m.\u001b[39m_interleave(dtype\u001b[38;5;241m=\u001b[39mdtype, na_value\u001b[38;5;241m=\u001b[39mna_value)\n\u001b[1;32m   1695\u001b[0m     \u001b[38;5;66;03m# The underlying data was copied within _interleave, so no need\u001b[39;00m\n\u001b[1;32m   1696\u001b[0m     \u001b[38;5;66;03m# to further copy if copy=True or setting na_value\u001b[39;00m\n\u001b[1;32m   1698\u001b[0m \u001b[38;5;28;01mif\u001b[39;00m na_value \u001b[38;5;129;01mis\u001b[39;00m lib\u001b[38;5;241m.\u001b[39mno_default:\n",
      "File \u001b[0;32m/opt/anaconda3/lib/python3.12/site-packages/pandas/core/internals/managers.py:1753\u001b[0m, in \u001b[0;36mBlockManager._interleave\u001b[0;34m(self, dtype, na_value)\u001b[0m\n\u001b[1;32m   1751\u001b[0m     \u001b[38;5;28;01melse\u001b[39;00m:\n\u001b[1;32m   1752\u001b[0m         arr \u001b[38;5;241m=\u001b[39m blk\u001b[38;5;241m.\u001b[39mget_values(dtype)\n\u001b[0;32m-> 1753\u001b[0m     result[rl\u001b[38;5;241m.\u001b[39mindexer] \u001b[38;5;241m=\u001b[39m arr\n\u001b[1;32m   1754\u001b[0m     itemmask[rl\u001b[38;5;241m.\u001b[39mindexer] \u001b[38;5;241m=\u001b[39m \u001b[38;5;241m1\u001b[39m\n\u001b[1;32m   1756\u001b[0m \u001b[38;5;28;01mif\u001b[39;00m \u001b[38;5;129;01mnot\u001b[39;00m itemmask\u001b[38;5;241m.\u001b[39mall():\n",
      "\u001b[0;31mValueError\u001b[0m: could not convert string to float: 'AL011851'"
     ]
    }
   ],
   "source": [
    "# Compute correlation matrix\n",
    "corr_matrix = data.corr()\n",
    "\n",
    "# Plot heatmap\n",
    "plt.figure(figsize=(15, 12))\n",
    "sns.heatmap(corr_matrix, annot=True, fmt=\".2f\", cmap='coolwarm')\n",
    "plt.title('Correlation Matrix')\n",
    "plt.show()\n"
   ]
  },
  {
   "cell_type": "code",
   "execution_count": null,
   "id": "c2cd31bb-a381-4e88-b6f9-5e9bae41da9a",
   "metadata": {},
   "outputs": [],
   "source": []
  }
 ],
 "metadata": {
  "kernelspec": {
   "display_name": "Python 3 (ipykernel)",
   "language": "python",
   "name": "python3"
  },
  "language_info": {
   "codemirror_mode": {
    "name": "ipython",
    "version": 3
   },
   "file_extension": ".py",
   "mimetype": "text/x-python",
   "name": "python",
   "nbconvert_exporter": "python",
   "pygments_lexer": "ipython3",
   "version": "3.12.4"
  }
 },
 "nbformat": 4,
 "nbformat_minor": 5
}
